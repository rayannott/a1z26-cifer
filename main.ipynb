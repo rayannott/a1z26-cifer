{
 "cells": [
  {
   "cell_type": "code",
   "execution_count": 1,
   "metadata": {},
   "outputs": [],
   "source": [
    "from cifer import Encoder, Decoder"
   ]
  },
  {
   "cell_type": "code",
   "execution_count": 2,
   "metadata": {},
   "outputs": [],
   "source": [
    "enc = Encoder()\n",
    "dec = Decoder()"
   ]
  },
  {
   "cell_type": "code",
   "execution_count": 3,
   "metadata": {},
   "outputs": [
    {
     "name": "stdout",
     "output_type": "stream",
     "text": [
      "1 17219311 218152314 61524 1021131619 1522518 2085 1212625 4157 2085 25975 8215 1514 2085 2312051819 156 2085 121538 91316185191954 11212 9143122149147 2085 61851438 17215514 25615185 1985 851184 208120 192513168151425 171914 10211920 119 251521147 1182082118 231142054\n"
     ]
    }
   ],
   "source": [
    "encoded_sentence = enc.encode(\n",
    "    '''\n",
    "    A quick brown fox jumps over the lazy dog.\n",
    "    The beige hue on the waters of the loch impressed all, including the French queen, \n",
    "    before she heard that symphony again, just as young Arthur wanted\n",
    "    '''\n",
    "    )\n",
    "print(encoded_sentence)"
   ]
  },
  {
   "cell_type": "code",
   "execution_count": 4,
   "metadata": {},
   "outputs": [
    {
     "name": "stdout",
     "output_type": "stream",
     "text": [
      "a quick brown fox jumps over the lazy dog the beige hue on the waters of the [loch]0? impressed all including the french queen before she heard that symphony again just as|ki young [arthur]1? wanted\n"
     ]
    }
   ],
   "source": [
    "decoded_sentence = dec.decode(encoded_sentence)\n",
    "print(decoded_sentence)"
   ]
  },
  {
   "cell_type": "code",
   "execution_count": 5,
   "metadata": {},
   "outputs": [
    {
     "data": {
      "text/plain": [
       "{0: 'loch|aboch|auech|laech|abaech',\n",
       " 1: 'arthur|khthur|aahthur|arthbar|arthbkh|arthuah|khthbar|khthbkh|khthuah|aahthbar|aahthbkh|aahthuah|arthbaah|khthbaah|aahthbaah'}"
      ]
     },
     "execution_count": 5,
     "metadata": {},
     "output_type": "execute_result"
    }
   ],
   "source": [
    "dec.get_failed_words_dict()"
   ]
  }
 ],
 "metadata": {
  "kernelspec": {
   "display_name": "venv",
   "language": "python",
   "name": "python3"
  },
  "language_info": {
   "codemirror_mode": {
    "name": "ipython",
    "version": 3
   },
   "file_extension": ".py",
   "mimetype": "text/x-python",
   "name": "python",
   "nbconvert_exporter": "python",
   "pygments_lexer": "ipython3",
   "version": "3.11.2"
  },
  "orig_nbformat": 4
 },
 "nbformat": 4,
 "nbformat_minor": 2
}
